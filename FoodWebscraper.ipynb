{
 "cells": [
  {
   "cell_type": "code",
   "execution_count": 26,
   "metadata": {},
   "outputs": [],
   "source": [
    "import requests\n",
    "from bs4 import BeautifulSoup\n",
    "import re\n",
    "import pygsheets\n",
    "import pandas as pd\n",
    "\n",
    "keypath = 'C:\\\\Users\\Kaspe\\Documents\\AuthKeys\\superfoods-383120-9880791a7067.json'\n",
    "gc = pygsheets.authorize(service_file=keypath)\n",
    "sh = gc.open(\"Super Foods\")"
   ]
  },
  {
   "cell_type": "code",
   "execution_count": 27,
   "metadata": {},
   "outputs": [],
   "source": [
    "def CleanPrice(numElement):\n",
    "    numElement = numElement.get_text().strip().replace(u'\\xa0', u' ')\n",
    "    numElement = numElement.replace(u',', u'.')\n",
    "    x = re.findall(\"\\d+\\.\\d+\", numElement)\n",
    "    if(x):\n",
    "        numElement = re.findall(\"\\d+\\.\\d+\", numElement)[0]\n",
    "        return numElement\n",
    "    else:\n",
    "        return 0\n",
    "\n",
    "def InsertIcaProduct(df, url):\n",
    "    response = requests.get(url)\n",
    "    soup_data = BeautifulSoup(response.text, 'html.parser')\n",
    "   \n",
    "    title  = soup_data.findAll('h1', {\"class\": \"heading__Base-sc-1vuwqc7-0-h1 sc-ehCIER ZBWKl rZSBo\"})\n",
    "    title = title[0].text.strip()\n",
    "\n",
    "    kg_price = soup_data.findAll('span', {\"class\": \"text__Text-sc-6l1yjp-0 bhymDA\"})\n",
    "    if(kg_price):\n",
    "        kg_price = CleanPrice(kg_price[1])\n",
    "    \n",
    "    price = soup_data.findAll('div', {\"class\" : \"spacing__Spacing-sc-ngu0v9-0 lbarHM\"})\n",
    "    if(price):\n",
    "        price = CleanPrice(price[0])\n",
    "    \n",
    "    contents = soup_data.findAll('div', {\"class\": \"static-content-wrapper__StaticContentWrapper-sc-3z5iao-0 fdAbME\"})\n",
    "    contents.reverse()\n",
    "\n",
    "    content_ls = contents[0].text.strip().split(\",\")\n",
    "    if('kcal' not in contents[0].text):\n",
    "        content_ls.insert(0, '0')\n",
    "    if('kJ' not in contents[0].text):\n",
    "        content_ls.insert(1, '0')\n",
    "    if('Fett' not in contents[0].text):\n",
    "        content_ls.insert(2, '0')\n",
    "    if('mättat' not in contents[0].text):\n",
    "        content_ls.insert(3, '0')\n",
    "    if('Kolhydrat' not in contents[0].text):\n",
    "        content_ls.insert(4, '0')\n",
    "    if('socker' not in contents[0].text):\n",
    "        content_ls.insert(5, '0')\n",
    "    if('Fiber' not in contents[0].text):\n",
    "        content_ls.insert(6, '0')\n",
    "    if('Protein' not in contents[0].text):\n",
    "        content_ls.insert(7, '0')\n",
    "    if('Salt' not in contents[0].text):\n",
    "        content_ls.insert(8, '0')\n",
    "\n",
    "    for idx in range(len(content_ls)):\n",
    "        if(content_ls[idx]):\n",
    "            x = re.findall(r'\\d+(?:\\.\\d+)?', content_ls[idx])\n",
    "            if(x):\n",
    "                content_ls[idx] = x[0]\n",
    "\n",
    "    df.loc[len(df)] = [title, content_ls[0],content_ls[1],content_ls[2],content_ls[3],content_ls[4],content_ls[5],content_ls[6],content_ls[7],content_ls[8], kg_price, price, url]\n",
    "    return [df]"
   ]
  },
  {
   "cell_type": "code",
   "execution_count": 28,
   "metadata": {},
   "outputs": [
    {
     "ename": "IndexError",
     "evalue": "list index out of range",
     "output_type": "error",
     "traceback": [
      "\u001b[1;31m---------------------------------------------------------------------------\u001b[0m",
      "\u001b[1;31mIndexError\u001b[0m                                Traceback (most recent call last)",
      "Cell \u001b[1;32mIn[28], line 5\u001b[0m\n\u001b[0;32m      3\u001b[0m \u001b[39mfor\u001b[39;00m value \u001b[39min\u001b[39;00m sh[\u001b[39m1\u001b[39m]\u001b[39m.\u001b[39mget_all_values():\n\u001b[0;32m      4\u001b[0m     \u001b[39mif\u001b[39;00m(value[\u001b[39m0\u001b[39m]\u001b[39m!=\u001b[39m\u001b[39m'\u001b[39m\u001b[39m'\u001b[39m):\n\u001b[1;32m----> 5\u001b[0m         InsertIcaProduct(df, value[\u001b[39m0\u001b[39;49m])\n\u001b[0;32m      7\u001b[0m df\u001b[39m.\u001b[39mhead()\n",
      "Cell \u001b[1;32mIn[27], line 51\u001b[0m, in \u001b[0;36mInsertIcaProduct\u001b[1;34m(df, url)\u001b[0m\n\u001b[0;32m     49\u001b[0m \u001b[39mfor\u001b[39;00m idx \u001b[39min\u001b[39;00m \u001b[39mrange\u001b[39m(\u001b[39mlen\u001b[39m(content_ls)):\n\u001b[0;32m     50\u001b[0m     \u001b[39mif\u001b[39;00m(content_ls[idx]):\n\u001b[1;32m---> 51\u001b[0m         content_ls[idx] \u001b[39m=\u001b[39m re\u001b[39m.\u001b[39;49mfindall(\u001b[39mr\u001b[39;49m\u001b[39m'\u001b[39;49m\u001b[39m\\\u001b[39;49m\u001b[39md+(?:\u001b[39;49m\u001b[39m\\\u001b[39;49m\u001b[39m.\u001b[39;49m\u001b[39m\\\u001b[39;49m\u001b[39md+)?\u001b[39;49m\u001b[39m'\u001b[39;49m, content_ls[idx])[\u001b[39m0\u001b[39;49m]\n\u001b[0;32m     53\u001b[0m df\u001b[39m.\u001b[39mloc[\u001b[39mlen\u001b[39m(df)] \u001b[39m=\u001b[39m [title, content_ls[\u001b[39m0\u001b[39m],content_ls[\u001b[39m1\u001b[39m],content_ls[\u001b[39m2\u001b[39m],content_ls[\u001b[39m3\u001b[39m],content_ls[\u001b[39m4\u001b[39m],content_ls[\u001b[39m5\u001b[39m],content_ls[\u001b[39m6\u001b[39m],content_ls[\u001b[39m7\u001b[39m],content_ls[\u001b[39m8\u001b[39m], kg_price, price, url]\n\u001b[0;32m     54\u001b[0m \u001b[39mreturn\u001b[39;00m [df]\n",
      "\u001b[1;31mIndexError\u001b[0m: list index out of range"
     ]
    }
   ],
   "source": [
    "df = pd.DataFrame(columns=['product','kcal', 'kj', 'fat_g','sat_fat_g', 'carb_g', 'sugar_g', 'fiber_g','protein_g','salt_g', 'kg_price_kr', 'price_kr','link'])\n",
    "\n",
    "for value in sh[1].get_all_values():\n",
    "    if(value[0]!=''):\n",
    "        InsertIcaProduct(df, value[0])\n",
    "\n",
    "df.head()"
   ]
  },
  {
   "cell_type": "code",
   "execution_count": null,
   "metadata": {},
   "outputs": [],
   "source": [
    "# Export to google sheet and local csv \n",
    "df.to_csv('scraped_foods.csv')\n",
    "\n",
    "wks = sh[0]\n",
    "wks.set_dataframe(df,(1,1))"
   ]
  }
 ],
 "metadata": {
  "kernelspec": {
   "display_name": "Python 3",
   "language": "python",
   "name": "python3"
  },
  "language_info": {
   "codemirror_mode": {
    "name": "ipython",
    "version": 3
   },
   "file_extension": ".py",
   "mimetype": "text/x-python",
   "name": "python",
   "nbconvert_exporter": "python",
   "pygments_lexer": "ipython3",
   "version": "3.11.2"
  },
  "orig_nbformat": 4
 },
 "nbformat": 4,
 "nbformat_minor": 2
}
