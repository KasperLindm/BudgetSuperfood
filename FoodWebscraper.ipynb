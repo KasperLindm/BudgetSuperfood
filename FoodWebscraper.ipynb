{
 "cells": [
  {
   "cell_type": "code",
   "execution_count": 13,
   "metadata": {},
   "outputs": [],
   "source": [
    "import requests\n",
    "from bs4 import BeautifulSoup\n",
    "import re\n",
    "import pygsheets\n",
    "import pandas as pd\n",
    "\n",
    "keypath = 'C:\\\\Users\\Kaspe\\Documents\\AuthKeys\\superfoods-383120-9880791a7067.json'\n",
    "gc = pygsheets.authorize(service_file=keypath)\n",
    "sh = gc.open(\"Super Foods\")\n",
    "\n",
    "def CleanNumber(numElement):\n",
    "    numElement = numElement.get_text().strip().replace(u'\\xa0', u' ')\n",
    "    numElement = numElement.replace(u',', u'.')\n",
    "    numElement = re.findall(\"\\d+\\.\\d+\", numElement)[0]\n",
    "    return numElement\n",
    "\n",
    "def CleanFloat(floatElement):\n",
    "    floatElement = re.findall(\"\\d+\\.\\d+\", floatElement)[0]\n",
    "    return floatElement\n",
    "\n",
    "\n",
    "def InsertIcaProduct(df, url):\n",
    "    response = requests.get(url)\n",
    "    soup_data = BeautifulSoup(response.text, 'html.parser')\n",
    "   \n",
    "    title  = soup_data.findAll('h1', {\"class\": \"heading__Base-sc-1vuwqc7-0-h1 sc-ehCIER ZBWKl rZSBo\"})\n",
    "   \n",
    "    contents = soup_data.findAll('div', {\"class\": \"static-content-wrapper__StaticContentWrapper-sc-3z5iao-0 fdAbME\"})\n",
    "    contents.reverse()\n",
    "    \n",
    "    kg_price = soup_data.findAll('span', {\"class\": \"text__Text-sc-6l1yjp-0 bhymDA\"})\n",
    "    kg_price = CleanNumber(kg_price[1])\n",
    "    \n",
    "    price = soup_data.findAll('div', {\"class\" : \"spacing__Spacing-sc-ngu0v9-0 lbarHM\"})\n",
    "    price = CleanNumber(price[0])\n",
    "\n",
    "    df.loc[len(df)+1] = [title[0].text.strip(), contents[0].text.strip(), kg_price, price, url]\n",
    "    return [df]"
   ]
  },
  {
   "cell_type": "code",
   "execution_count": 14,
   "metadata": {},
   "outputs": [],
   "source": [
    "df = pd.DataFrame(columns=['product','nutrients', 'kg_price', 'price','link'])\n",
    "\n",
    "for value in sh[1].get_all_values():\n",
    "    InsertIcaProduct(df, value[0])\n",
    "\n",
    "df[['kcal', 'kj', 'fat','sat_fat', 'carb', 'sugar', 'fiber','protein','salt']] = df['nutrients'].str.split(\",\", expand=True)\n",
    "df = df.drop(['nutrients'], axis=1)\n",
    "\n",
    "df.kcal = df.kcal.str.extract(\"(\\d+)\")\n",
    "df.kj = df.kj.str.extract(\"(\\d+)\")\n",
    "df.fat = df.fat.str.extract(\"(\\d+)\")\n",
    "df.sat_fat = df.sat_fat.str.extract(\"(\\d+)\")\n",
    "df.carb = df.carb.str.extract(\"(\\d+)\")\n",
    "df.sugar = df.sugar.str.extract(\"(\\d+)\")\n",
    "df.fiber = df.fiber.str.extract(\"(\\d+)\")\n",
    "df.protein = df.protein.str.extract(\"(\\d+)\")\n",
    "df.salt = df.salt.str.extract(\"(\\d+)\")"
   ]
  },
  {
   "cell_type": "code",
   "execution_count": 15,
   "metadata": {},
   "outputs": [],
   "source": [
    "# Export to google sheet and local csv \n",
    "df['url'] = df.link\n",
    "df = df.drop(['link'], axis=1)\n",
    "df.to_csv('scraped_foods.csv')\n",
    "\n",
    "wks = sh[0]\n",
    "wks.set_dataframe(df,(1,1))"
   ]
  }
 ],
 "metadata": {
  "kernelspec": {
   "display_name": "Python 3",
   "language": "python",
   "name": "python3"
  },
  "language_info": {
   "codemirror_mode": {
    "name": "ipython",
    "version": 3
   },
   "file_extension": ".py",
   "mimetype": "text/x-python",
   "name": "python",
   "nbconvert_exporter": "python",
   "pygments_lexer": "ipython3",
   "version": "3.11.2"
  },
  "orig_nbformat": 4
 },
 "nbformat": 4,
 "nbformat_minor": 2
}
