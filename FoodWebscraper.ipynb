{
 "cells": [
  {
   "cell_type": "code",
   "execution_count": 1,
   "metadata": {},
   "outputs": [
    {
     "ename": "WorksheetNotFound",
     "evalue": "",
     "output_type": "error",
     "traceback": [
      "\u001b[1;31m---------------------------------------------------------------------------\u001b[0m",
      "\u001b[1;31mWorksheetNotFound\u001b[0m                         Traceback (most recent call last)",
      "Cell \u001b[1;32mIn[1], line 41\u001b[0m\n\u001b[0;32m     37\u001b[0m     \u001b[39mreturn\u001b[39;00m [df]\n\u001b[0;32m     39\u001b[0m df \u001b[39m=\u001b[39m pd\u001b[39m.\u001b[39mDataFrame(columns\u001b[39m=\u001b[39m[\u001b[39m'\u001b[39m\u001b[39mproduct\u001b[39m\u001b[39m'\u001b[39m,\u001b[39m'\u001b[39m\u001b[39mnutrients\u001b[39m\u001b[39m'\u001b[39m, \u001b[39m'\u001b[39m\u001b[39mkg_price\u001b[39m\u001b[39m'\u001b[39m, \u001b[39m'\u001b[39m\u001b[39mprice\u001b[39m\u001b[39m'\u001b[39m,\u001b[39m'\u001b[39m\u001b[39mlink\u001b[39m\u001b[39m'\u001b[39m])\n\u001b[1;32m---> 41\u001b[0m \u001b[39mfor\u001b[39;00m value \u001b[39min\u001b[39;00m sh[\u001b[39m1\u001b[39;49m]\u001b[39m.\u001b[39mget_all_values():\n\u001b[0;32m     42\u001b[0m     InsertIcaProduct(df, value[\u001b[39m0\u001b[39m])\n\u001b[0;32m     44\u001b[0m df[[\u001b[39m'\u001b[39m\u001b[39mkcal\u001b[39m\u001b[39m'\u001b[39m, \u001b[39m'\u001b[39m\u001b[39mkj\u001b[39m\u001b[39m'\u001b[39m, \u001b[39m'\u001b[39m\u001b[39mfat\u001b[39m\u001b[39m'\u001b[39m,\u001b[39m'\u001b[39m\u001b[39msat_fat\u001b[39m\u001b[39m'\u001b[39m, \u001b[39m'\u001b[39m\u001b[39mcarb\u001b[39m\u001b[39m'\u001b[39m, \u001b[39m'\u001b[39m\u001b[39msugar\u001b[39m\u001b[39m'\u001b[39m, \u001b[39m'\u001b[39m\u001b[39mfiber\u001b[39m\u001b[39m'\u001b[39m,\u001b[39m'\u001b[39m\u001b[39mprotein\u001b[39m\u001b[39m'\u001b[39m,\u001b[39m'\u001b[39m\u001b[39msalt\u001b[39m\u001b[39m'\u001b[39m]] \u001b[39m=\u001b[39m df[\u001b[39m'\u001b[39m\u001b[39mnutrients\u001b[39m\u001b[39m'\u001b[39m]\u001b[39m.\u001b[39mstr\u001b[39m.\u001b[39msplit(\u001b[39m\"\u001b[39m\u001b[39m,\u001b[39m\u001b[39m\"\u001b[39m, expand\u001b[39m=\u001b[39m\u001b[39mTrue\u001b[39;00m)\n",
      "File \u001b[1;32mc:\\Users\\Kaspe\\AppData\\Local\\Programs\\Python\\Python311\\Lib\\site-packages\\pygsheets\\spreadsheet.py:422\u001b[0m, in \u001b[0;36mSpreadsheet.__getitem__\u001b[1;34m(self, item)\u001b[0m\n\u001b[0;32m    420\u001b[0m \u001b[39mdef\u001b[39;00m \u001b[39m__getitem__\u001b[39m(\u001b[39mself\u001b[39m, item):\n\u001b[0;32m    421\u001b[0m     \u001b[39mif\u001b[39;00m \u001b[39mtype\u001b[39m(item) \u001b[39m==\u001b[39m \u001b[39mint\u001b[39m:\n\u001b[1;32m--> 422\u001b[0m         \u001b[39mreturn\u001b[39;00m \u001b[39mself\u001b[39;49m\u001b[39m.\u001b[39;49mworksheet(\u001b[39m'\u001b[39;49m\u001b[39mindex\u001b[39;49m\u001b[39m'\u001b[39;49m, item)\n",
      "File \u001b[1;32mc:\\Users\\Kaspe\\AppData\\Local\\Programs\\Python\\Python311\\Lib\\site-packages\\pygsheets\\spreadsheet.py:188\u001b[0m, in \u001b[0;36mSpreadsheet.worksheet\u001b[1;34m(self, property, value)\u001b[0m\n\u001b[0;32m    172\u001b[0m \u001b[39mdef\u001b[39;00m \u001b[39mworksheet\u001b[39m(\u001b[39mself\u001b[39m, \u001b[39mproperty\u001b[39m\u001b[39m=\u001b[39m\u001b[39m'\u001b[39m\u001b[39mindex\u001b[39m\u001b[39m'\u001b[39m, value\u001b[39m=\u001b[39m\u001b[39m0\u001b[39m):\n\u001b[0;32m    173\u001b[0m \u001b[39m    \u001b[39m\u001b[39m\"\"\"Returns the worksheet with the specified index, title or id.\u001b[39;00m\n\u001b[0;32m    174\u001b[0m \n\u001b[0;32m    175\u001b[0m \u001b[39m    If several worksheets with the same property are found the first is returned. This may not be the same\u001b[39;00m\n\u001b[1;32m   (...)\u001b[0m\n\u001b[0;32m    186\u001b[0m \u001b[39m    :returns: :class:`Worksheets <Worksheet>`.\u001b[39;00m\n\u001b[0;32m    187\u001b[0m \u001b[39m    \"\"\"\u001b[39;00m\n\u001b[1;32m--> 188\u001b[0m     \u001b[39mreturn\u001b[39;00m \u001b[39mself\u001b[39;49m\u001b[39m.\u001b[39;49mworksheets(\u001b[39mproperty\u001b[39;49m, value)[\u001b[39m0\u001b[39m]\n",
      "File \u001b[1;32mc:\\Users\\Kaspe\\AppData\\Local\\Programs\\Python\\Python311\\Lib\\site-packages\\pygsheets\\spreadsheet.py:169\u001b[0m, in \u001b[0;36mSpreadsheet.worksheets\u001b[1;34m(self, sheet_property, value, force_fetch)\u001b[0m\n\u001b[0;32m    167\u001b[0m     sheets \u001b[39m=\u001b[39m [x \u001b[39mfor\u001b[39;00m x \u001b[39min\u001b[39;00m \u001b[39mself\u001b[39m\u001b[39m.\u001b[39m_sheet_list \u001b[39mif\u001b[39;00m \u001b[39mgetattr\u001b[39m(x, sheet_property) \u001b[39m==\u001b[39m value]\n\u001b[0;32m    168\u001b[0m     \u001b[39mif\u001b[39;00m \u001b[39mnot\u001b[39;00m \u001b[39mlen\u001b[39m(sheets) \u001b[39m>\u001b[39m \u001b[39m0\u001b[39m:\n\u001b[1;32m--> 169\u001b[0m         \u001b[39mraise\u001b[39;00m WorksheetNotFound()\n\u001b[0;32m    170\u001b[0m \u001b[39mreturn\u001b[39;00m sheets\n",
      "\u001b[1;31mWorksheetNotFound\u001b[0m: "
     ]
    }
   ],
   "source": [
    "import requests\n",
    "from bs4 import BeautifulSoup\n",
    "import re\n",
    "import pygsheets\n",
    "import pandas as pd\n",
    "\n",
    "keypath = 'C:\\\\Users\\Kaspe\\Documents\\AuthKeys\\superfoods-383120-9880791a7067.json'\n",
    "gc = pygsheets.authorize(service_file=keypath)\n",
    "sh = gc.open(\"Superfoods\")\n",
    "\n",
    "def CleanNumber(numElement):\n",
    "    numElement = numElement.get_text().strip().replace(u'\\xa0', u' ')\n",
    "    numElement = numElement.replace(u',', u'.')\n",
    "    numElement = re.findall(\"\\d+\\.\\d+\", numElement)[0]\n",
    "    return numElement\n",
    "\n",
    "def CleanFloat(floatElement):\n",
    "    floatElement = re.findall(\"\\d+\\.\\d+\", floatElement)[0]\n",
    "    return floatElement\n",
    "\n",
    "\n",
    "def InsertIcaProduct(df, url):\n",
    "    response = requests.get(url)\n",
    "    soup_data = BeautifulSoup(response.text, 'html.parser')\n",
    "   \n",
    "    title  = soup_data.findAll('h1', {\"class\": \"heading__Base-sc-1vuwqc7-0-h1 sc-ehCIER ZBWKl rZSBo\"})\n",
    "   \n",
    "    contents = soup_data.findAll('div', {\"class\": \"static-content-wrapper__StaticContentWrapper-sc-3z5iao-0 fdAbME\"})\n",
    "    contents.reverse()\n",
    "    \n",
    "    kg_price = soup_data.findAll('span', {\"class\": \"text__Text-sc-6l1yjp-0 bhymDA\"})\n",
    "    kg_price = CleanNumber(kg_price[1])\n",
    "    \n",
    "    price = soup_data.findAll('div', {\"class\" : \"spacing__Spacing-sc-ngu0v9-0 lbarHM\"})\n",
    "    price = CleanNumber(price[0])\n",
    "\n",
    "    df.loc[len(df)+1] = [title[0].text.strip(), contents[0].text.strip(), kg_price, price, url]\n",
    "    return [df]\n",
    "\n",
    "df = pd.DataFrame(columns=['product','nutrients', 'kg_price', 'price','link'])\n",
    "\n",
    "for value in sh[1].get_all_values():\n",
    "    InsertIcaProduct(df, value[0])\n",
    "\n",
    "df[['kcal', 'kj', 'fat','sat_fat', 'carb', 'sugar', 'fiber','protein','salt']] = df['nutrients'].str.split(\",\", expand=True)\n",
    "df = df.drop(['nutrients'], axis=1)\n",
    "\n",
    "df.kcal = df.kcal.str.extract(\"(\\d+)\")\n",
    "df.kj = df.kj.str.extract(\"(\\d+)\")\n",
    "df.fat = df.fat.str.extract(\"(\\d+)\")\n",
    "df.sat_fat = df.sat_fat.str.extract(\"(\\d+)\")\n",
    "df.carb = df.carb.str.extract(\"(\\d+)\")\n",
    "df.sugar = df.sugar.str.extract(\"(\\d+)\")\n",
    "df.fiber = df.fiber.str.extract(\"(\\d+)\")\n",
    "df.protein = df.protein.str.extract(\"(\\d+)\")\n",
    "df.salt = df.salt.str.extract(\"(\\d+)\")\n",
    "\n",
    "df['url'] = df.link\n",
    "df = df.drop(['link'], axis=1)\n",
    "df.to_csv('scraped_foods.csv')\n",
    "\n",
    "wks = sh[0]\n",
    "wks.set_dataframe(df,(1,1))"
   ]
  }
 ],
 "metadata": {
  "kernelspec": {
   "display_name": "Python 3",
   "language": "python",
   "name": "python3"
  },
  "language_info": {
   "codemirror_mode": {
    "name": "ipython",
    "version": 3
   },
   "file_extension": ".py",
   "mimetype": "text/x-python",
   "name": "python",
   "nbconvert_exporter": "python",
   "pygments_lexer": "ipython3",
   "version": "3.11.2"
  },
  "orig_nbformat": 4
 },
 "nbformat": 4,
 "nbformat_minor": 2
}
