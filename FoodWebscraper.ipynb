{
 "cells": [
  {
   "attachments": {},
   "cell_type": "markdown",
   "metadata": {},
   "source": [
    "# Objective"
   ]
  },
  {
   "attachments": {},
   "cell_type": "markdown",
   "metadata": {},
   "source": [
    "# Init notebook"
   ]
  },
  {
   "cell_type": "code",
   "execution_count": 32,
   "metadata": {},
   "outputs": [],
   "source": [
    "import requests\n",
    "from bs4 import BeautifulSoup\n",
    "import re\n",
    "import pygsheets\n",
    "import pandas as pd\n",
    "\n",
    "keypath = 'C:\\\\Users\\Kaspe\\Documents\\AuthKeys\\superfoods-383120-9880791a7067.json'\n",
    "gc = pygsheets.authorize(service_file=keypath)\n",
    "sh = gc.open(\"Super Foods\")"
   ]
  },
  {
   "attachments": {},
   "cell_type": "markdown",
   "metadata": {},
   "source": [
    "# Defining the scraping method"
   ]
  },
  {
   "cell_type": "code",
   "execution_count": null,
   "metadata": {},
   "outputs": [],
   "source": [
    "def CleanPrice(numElement):\n",
    "    numElement = numElement.get_text().strip().replace(u'\\xa0', u' ')\n",
    "    numElement = numElement.replace(u',', u'.')\n",
    "    x = re.findall(\"\\d+\\.\\d+\", numElement)\n",
    "    if(x):\n",
    "        numElement = re.findall(\"\\d+\\.\\d+\", numElement)[0]\n",
    "        return numElement\n",
    "    else:\n",
    "        return 0"
   ]
  },
  {
   "cell_type": "code",
   "execution_count": 38,
   "metadata": {},
   "outputs": [],
   "source": [
    "def InsertIcaProduct(df, url):\n",
    "    response = requests.get(url)\n",
    "    soup_data = BeautifulSoup(response.text, 'html.parser')\n",
    "   \n",
    "    title  = soup_data.findAll('h1', {\"class\": \"heading__Base-sc-1vuwqc7-0-h1 sc-ehCIER ZBWKl rZSBo\"})\n",
    "    title = title[0].text.strip()\n",
    "\n",
    "    kg_price = soup_data.findAll('span', {\"class\": \"text__Text-sc-6l1yjp-0 bhymDA\"})\n",
    "    if(kg_price):\n",
    "        kg_price = CleanPrice(kg_price[1])\n",
    "    \n",
    "    price = soup_data.findAll('div', {\"class\" : \"spacing__Spacing-sc-ngu0v9-0 lbarHM\"})\n",
    "    if(price):\n",
    "        price = CleanPrice(price[0])\n",
    "    \n",
    "    contents = soup_data.findAll('div', {\"class\": \"static-content-wrapper__StaticContentWrapper-sc-3z5iao-0 fdAbME\"})\n",
    "    contents.reverse()\n",
    "\n",
    "    content_ls = contents[0].text.strip().split(\",\")\n",
    "    key_words = ['kcal', 'kJ','Fett','mättat','Kolhydrat','socker','Fiber','Protein','Salt']\n",
    "    \n",
    "    for idx in range(len(key_words)):\n",
    "        if(key_words[idx] not in contents[0].text):\n",
    "            content_ls.insert(idx, '0')\n",
    "        if(content_ls[idx]):\n",
    "            x = re.findall(r'\\d+(?:\\.\\d+)?', content_ls[idx])\n",
    "            if(x):\n",
    "                content_ls[idx] = x[0]\n",
    "\n",
    "    df.loc[len(df)] = [title, content_ls[0],content_ls[1],content_ls[2],content_ls[3],content_ls[4],content_ls[5],content_ls[6],content_ls[7],content_ls[8], kg_price, price, url]\n",
    "    return [df]"
   ]
  },
  {
   "attachments": {},
   "cell_type": "markdown",
   "metadata": {},
   "source": [
    "# Scraping"
   ]
  },
  {
   "cell_type": "code",
   "execution_count": 39,
   "metadata": {},
   "outputs": [
    {
     "data": {
      "text/html": [
       "<div>\n",
       "<style scoped>\n",
       "    .dataframe tbody tr th:only-of-type {\n",
       "        vertical-align: middle;\n",
       "    }\n",
       "\n",
       "    .dataframe tbody tr th {\n",
       "        vertical-align: top;\n",
       "    }\n",
       "\n",
       "    .dataframe thead th {\n",
       "        text-align: right;\n",
       "    }\n",
       "</style>\n",
       "<table border=\"1\" class=\"dataframe\">\n",
       "  <thead>\n",
       "    <tr style=\"text-align: right;\">\n",
       "      <th></th>\n",
       "      <th>product</th>\n",
       "      <th>kcal</th>\n",
       "      <th>kj</th>\n",
       "      <th>fat_g</th>\n",
       "      <th>sat_fat_g</th>\n",
       "      <th>carb_g</th>\n",
       "      <th>sugar_g</th>\n",
       "      <th>fiber_g</th>\n",
       "      <th>protein_g</th>\n",
       "      <th>salt_g</th>\n",
       "      <th>kg_price_kr</th>\n",
       "      <th>price_kr</th>\n",
       "      <th>link</th>\n",
       "    </tr>\n",
       "  </thead>\n",
       "  <tbody>\n",
       "    <tr>\n",
       "      <th>0</th>\n",
       "      <td>Tortiglioni 400g Zeta</td>\n",
       "      <td>367</td>\n",
       "      <td>1555</td>\n",
       "      <td>1.5</td>\n",
       "      <td>0.5</td>\n",
       "      <td>73</td>\n",
       "      <td>3</td>\n",
       "      <td>2.5</td>\n",
       "      <td>14</td>\n",
       "      <td>0</td>\n",
       "      <td>57.38</td>\n",
       "      <td>22.95</td>\n",
       "      <td>https://handlaprivatkund.ica.se/stores/1003417...</td>\n",
       "    </tr>\n",
       "    <tr>\n",
       "      <th>1</th>\n",
       "      <td>Kycklingfilé Fryst 1kg Kronfågel</td>\n",
       "      <td>90</td>\n",
       "      <td>400</td>\n",
       "      <td>1.5</td>\n",
       "      <td>0.5</td>\n",
       "      <td>0.5</td>\n",
       "      <td>0.5</td>\n",
       "      <td>0</td>\n",
       "      <td>19</td>\n",
       "      <td>0.6</td>\n",
       "      <td>124.95</td>\n",
       "      <td>124.95</td>\n",
       "      <td>https://handlaprivatkund.ica.se/stores/1003417...</td>\n",
       "    </tr>\n",
       "    <tr>\n",
       "      <th>2</th>\n",
       "      <td>Tofu Naturell Ekologisk 400g YiPin</td>\n",
       "      <td>118</td>\n",
       "      <td>494</td>\n",
       "      <td>5.9</td>\n",
       "      <td>1.1</td>\n",
       "      <td>2.1</td>\n",
       "      <td>0.2</td>\n",
       "      <td>0</td>\n",
       "      <td>14.2</td>\n",
       "      <td>0.01</td>\n",
       "      <td>84.88</td>\n",
       "      <td>33.95</td>\n",
       "      <td>https://handlaprivatkund.ica.se/stores/1003417...</td>\n",
       "    </tr>\n",
       "    <tr>\n",
       "      <th>3</th>\n",
       "      <td>Tofu naturell 400g ICA Basic</td>\n",
       "      <td>116</td>\n",
       "      <td>483</td>\n",
       "      <td>5.8</td>\n",
       "      <td>1</td>\n",
       "      <td>0.5</td>\n",
       "      <td>0.5</td>\n",
       "      <td>0</td>\n",
       "      <td>15</td>\n",
       "      <td>0.03</td>\n",
       "      <td>59.88</td>\n",
       "      <td>23.95</td>\n",
       "      <td>https://handlaprivatkund.ica.se/stores/1003417...</td>\n",
       "    </tr>\n",
       "    <tr>\n",
       "      <th>4</th>\n",
       "      <td>Tofu Naturell Ekologisk 270g KRAV Kung Markatta</td>\n",
       "      <td>148</td>\n",
       "      <td>615</td>\n",
       "      <td>8.6</td>\n",
       "      <td>1.4</td>\n",
       "      <td>1.6</td>\n",
       "      <td>0.1</td>\n",
       "      <td>1.7</td>\n",
       "      <td>15</td>\n",
       "      <td>0.1</td>\n",
       "      <td>110.93</td>\n",
       "      <td>29.95</td>\n",
       "      <td>https://handlaprivatkund.ica.se/stores/1003417...</td>\n",
       "    </tr>\n",
       "  </tbody>\n",
       "</table>\n",
       "</div>"
      ],
      "text/plain": [
       "                                           product kcal    kj fat_g sat_fat_g   \n",
       "0                            Tortiglioni 400g Zeta  367  1555   1.5       0.5  \\\n",
       "1                 Kycklingfilé Fryst 1kg Kronfågel   90   400   1.5       0.5   \n",
       "2               Tofu Naturell Ekologisk 400g YiPin  118   494   5.9       1.1   \n",
       "3                     Tofu naturell 400g ICA Basic  116   483   5.8         1   \n",
       "4  Tofu Naturell Ekologisk 270g KRAV Kung Markatta  148   615   8.6       1.4   \n",
       "\n",
       "  carb_g sugar_g fiber_g protein_g salt_g kg_price_kr price_kr   \n",
       "0     73       3     2.5        14      0       57.38    22.95  \\\n",
       "1    0.5     0.5       0        19    0.6      124.95   124.95   \n",
       "2    2.1     0.2       0      14.2   0.01       84.88    33.95   \n",
       "3    0.5     0.5       0        15   0.03       59.88    23.95   \n",
       "4    1.6     0.1     1.7        15    0.1      110.93    29.95   \n",
       "\n",
       "                                                link  \n",
       "0  https://handlaprivatkund.ica.se/stores/1003417...  \n",
       "1  https://handlaprivatkund.ica.se/stores/1003417...  \n",
       "2  https://handlaprivatkund.ica.se/stores/1003417...  \n",
       "3  https://handlaprivatkund.ica.se/stores/1003417...  \n",
       "4  https://handlaprivatkund.ica.se/stores/1003417...  "
      ]
     },
     "execution_count": 39,
     "metadata": {},
     "output_type": "execute_result"
    }
   ],
   "source": [
    "df = pd.DataFrame(columns=['product','kcal', 'kj', 'fat_g','sat_fat_g', 'carb_g', 'sugar_g', 'fiber_g','protein_g','salt_g', 'kg_price_kr', 'price_kr','link'])\n",
    "\n",
    "for value in sh[1].get_all_values():\n",
    "    if(value[0]!=''):\n",
    "        InsertIcaProduct(df, value[0])\n",
    "\n",
    "df.head()"
   ]
  },
  {
   "attachments": {},
   "cell_type": "markdown",
   "metadata": {},
   "source": [
    "# Saving results"
   ]
  },
  {
   "cell_type": "code",
   "execution_count": 40,
   "metadata": {},
   "outputs": [],
   "source": [
    "# Export to google sheet and local csv \n",
    "df.to_csv('scraped_foods.csv')\n",
    "\n",
    "wks = sh[0]\n",
    "wks.set_dataframe(df,(1,1))"
   ]
  }
 ],
 "metadata": {
  "kernelspec": {
   "display_name": "Python 3",
   "language": "python",
   "name": "python3"
  },
  "language_info": {
   "codemirror_mode": {
    "name": "ipython",
    "version": 3
   },
   "file_extension": ".py",
   "mimetype": "text/x-python",
   "name": "python",
   "nbconvert_exporter": "python",
   "pygments_lexer": "ipython3",
   "version": "3.11.2"
  },
  "orig_nbformat": 4
 },
 "nbformat": 4,
 "nbformat_minor": 2
}
